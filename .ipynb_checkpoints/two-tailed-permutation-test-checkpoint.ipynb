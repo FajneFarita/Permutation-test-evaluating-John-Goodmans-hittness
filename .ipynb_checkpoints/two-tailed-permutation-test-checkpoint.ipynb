{
 "cells": [
  {
   "cell_type": "code",
   "execution_count": 25,
   "metadata": {
    "collapsed": false
   },
   "outputs": [],
   "source": [
    "import pandas\n",
    "import random\n",
    "import numpy as np\n",
    "\n",
    "features_set = pandas.read_csv(\"movie.features.txt\", delim_whitespace=True, header=None)\n",
    "movies_set = pandas.read_csv(\"movie.box_office.txt\", delim_whitespace=True, header=None)\n"
   ]
  },
  {
   "cell_type": "code",
   "execution_count": 28,
   "metadata": {
    "collapsed": false
   },
   "outputs": [],
   "source": [
    "features_num = len(np.unique(features_set[2]))\n"
   ]
  },
  {
   "cell_type": "code",
   "execution_count": 4,
   "metadata": {
    "collapsed": false
   },
   "outputs": [],
   "source": [
    "movie_dict = dict(zip(movies_set[0], movies_set[1]))\n"
   ]
  },
  {
   "cell_type": "code",
   "execution_count": 6,
   "metadata": {
    "collapsed": false
   },
   "outputs": [],
   "source": [
    "hits_set = movies_set[movies_set[1] == 1]"
   ]
  },
  {
   "cell_type": "code",
   "execution_count": 8,
   "metadata": {
    "collapsed": false
   },
   "outputs": [],
   "source": [
    "yes_goodman_set = features_set[features_set[0] == \"John_Goodman\"]"
   ]
  },
  {
   "cell_type": "code",
   "execution_count": 11,
   "metadata": {
    "collapsed": false
   },
   "outputs": [
    {
     "data": {
      "text/plain": [
       "0.40677966101694918"
      ]
     },
     "execution_count": 11,
     "metadata": {},
     "output_type": "execute_result"
    }
   ],
   "source": [
    "goodman_hits = 0\n",
    "for item in yes_goodman_set[2]:\n",
    "    goodman_hits +=movie_dict[item]\n",
    "goodman_hits_mean = goodman_hits/len(yes_goodman_set)\n",
    "goodman_hits_mean\n"
   ]
  },
  {
   "cell_type": "code",
   "execution_count": 45,
   "metadata": {
    "collapsed": false
   },
   "outputs": [
    {
     "data": {
      "text/plain": [
       "2054"
      ]
     },
     "execution_count": 45,
     "metadata": {},
     "output_type": "execute_result"
    }
   ],
   "source": [
    "no_goodman_hits = (len(hits_set) - goodman_hits)\n",
    "no_goodman_hits"
   ]
  },
  {
   "cell_type": "code",
   "execution_count": 46,
   "metadata": {
    "collapsed": false
   },
   "outputs": [
    {
     "data": {
      "text/plain": [
       "8245"
      ]
     },
     "execution_count": 46,
     "metadata": {},
     "output_type": "execute_result"
    }
   ],
   "source": [
    "no_goodman_films = (features_num)-len(yes_goodman_set)\n",
    "no_goodman_films"
   ]
  },
  {
   "cell_type": "code",
   "execution_count": 47,
   "metadata": {
    "collapsed": false
   },
   "outputs": [
    {
     "data": {
      "text/plain": [
       "0.24912067919951486"
      ]
     },
     "execution_count": 47,
     "metadata": {},
     "output_type": "execute_result"
    }
   ],
   "source": [
    "no_goodman_hits_mean = no_goodman_hits/no_goodman_films\n",
    "no_goodman_hits_mean"
   ]
  },
  {
   "cell_type": "code",
   "execution_count": 48,
   "metadata": {
    "collapsed": false
   },
   "outputs": [
    {
     "data": {
      "text/plain": [
       "8304"
      ]
     },
     "execution_count": 48,
     "metadata": {},
     "output_type": "execute_result"
    }
   ],
   "source": [
    "features_num"
   ]
  },
  {
   "cell_type": "code",
   "execution_count": 49,
   "metadata": {
    "collapsed": false
   },
   "outputs": [
    {
     "data": {
      "text/plain": [
       "59"
      ]
     },
     "execution_count": 49,
     "metadata": {},
     "output_type": "execute_result"
    }
   ],
   "source": [
    "len(yes_goodman_set)"
   ]
  },
  {
   "cell_type": "code",
   "execution_count": 17,
   "metadata": {
    "collapsed": false
   },
   "outputs": [
    {
     "data": {
      "text/plain": [
       "2078"
      ]
     },
     "execution_count": 17,
     "metadata": {},
     "output_type": "execute_result"
    }
   ],
   "source": [
    "len(hits_set)"
   ]
  },
  {
   "cell_type": "code",
   "execution_count": 10,
   "metadata": {
    "collapsed": false
   },
   "outputs": [
    {
     "data": {
      "text/plain": [
       "2054"
      ]
     },
     "execution_count": 10,
     "metadata": {},
     "output_type": "execute_result"
    }
   ],
   "source": [
    "len(hits_set) - goodman_hits"
   ]
  },
  {
   "cell_type": "markdown",
   "metadata": {},
   "source": [
    "Now, let's calculate our observed test statistic of interest"
   ]
  },
  {
   "cell_type": "code",
   "execution_count": 50,
   "metadata": {
    "collapsed": false
   },
   "outputs": [
    {
     "data": {
      "text/plain": [
       "0.15765898181743432"
      ]
     },
     "execution_count": 50,
     "metadata": {},
     "output_type": "execute_result"
    }
   ],
   "source": [
    "t = goodman_hits_mean - no_goodman_hits_mean\n",
    "t"
   ]
  },
  {
   "cell_type": "markdown",
   "metadata": {
    "collapsed": true
   },
   "source": [
    "Now, let's calculate I for p"
   ]
  },
  {
   "cell_type": "code",
   "execution_count": 59,
   "metadata": {
    "collapsed": false
   },
   "outputs": [],
   "source": [
    "b = 0\n",
    "i = 0\n",
    "random_t1_mean = 0\n",
    "random_t2_mean = 0\n",
    "random_t = 0\n",
    "all_hits_sum = sum(movie_dict.values())\n",
    "\n",
    "while b <= 10000:\n",
    "    \n",
    "    permuted_t1 = random.sample(list(movie_dict), len(yes_goodman_set)) # 59 random movie ids (=movies with Goodman)\n",
    "    t1 = 0\n",
    "    for key in permuted_t1:\n",
    "        t1 +=movie_dict[key] # sum up values at these keys and get the number of hits\n",
    "\n",
    "    random_t1_mean = t1/len(yes_goodman_set) # proportion of hits in a random sample to all goodman movies\n",
    "    random_t2_mean = (all_hits_sum-t1)/no_goodman_films # proportion of hits in a random sample to all non-goodman movies\n",
    "\n",
    "    random_t = random_t1_mean - random_t2_mean\n",
    "\n",
    "    if abs(t) <= abs(random_t):\n",
    "        i +=1\n",
    "    b+=1\n",
    "\n"
   ]
  },
  {
   "cell_type": "code",
   "execution_count": 60,
   "metadata": {
    "collapsed": false
   },
   "outputs": [
    {
     "data": {
      "text/plain": [
       "66"
      ]
     },
     "execution_count": 60,
     "metadata": {},
     "output_type": "execute_result"
    }
   ],
   "source": [
    "i"
   ]
  },
  {
   "cell_type": "code",
   "execution_count": 61,
   "metadata": {
    "collapsed": false
   },
   "outputs": [
    {
     "data": {
      "text/plain": [
       "0.0065993400659934"
      ]
     },
     "execution_count": 61,
     "metadata": {},
     "output_type": "execute_result"
    }
   ],
   "source": [
    "p = i/b\n",
    "p"
   ]
  },
  {
   "cell_type": "markdown",
   "metadata": {
    "collapsed": true
   },
   "source": [
    "**Can the null hypothesis (that movies featuring John Goodman have the same proportion of box office hits as those that do not) be rejected with a significance level of alpha = 0.01? If so, what is the size and direction (positive or negative) of the effect?**"
   ]
  },
  {
   "cell_type": "markdown",
   "metadata": {},
   "source": [
    "As our permutation test proves, the probability of seeing a test statistic as extreme as 0.157 (t) is less than 1% (0.0065). With significance level 0.01 **we therefore regect the null hypothesis**. Since the difference between mean for hits with Goodman and mean for hits without Goodman is a positive number (0.151) **the direction is positive**. The effect size is the difference between the observed statistic t and null hypothesist which is 0 (because under null hyp the difference is 0). **The effect size equals 0.157.** "
   ]
  },
  {
   "cell_type": "code",
   "execution_count": null,
   "metadata": {
    "collapsed": true
   },
   "outputs": [],
   "source": []
  }
 ],
 "metadata": {
  "kernelspec": {
   "display_name": "Python 3",
   "language": "python",
   "name": "python3"
  },
  "language_info": {
   "codemirror_mode": {
    "name": "ipython",
    "version": 3
   },
   "file_extension": ".py",
   "mimetype": "text/x-python",
   "name": "python",
   "nbconvert_exporter": "python",
   "pygments_lexer": "ipython3",
   "version": "3.6.0"
  }
 },
 "nbformat": 4,
 "nbformat_minor": 2
}
